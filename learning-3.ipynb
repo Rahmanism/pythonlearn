{
 "cells": [
  {
   "cell_type": "code",
   "execution_count": 7,
   "metadata": {},
   "outputs": [
    {
     "data": {
      "text/plain": [
       "'o'"
      ]
     },
     "execution_count": 7,
     "metadata": {},
     "output_type": "execute_result"
    }
   ],
   "source": [
    "a = 'Hello'\n",
    "len(a)\n",
    "a[4]"
   ]
  },
  {
   "cell_type": "code",
   "execution_count": 11,
   "metadata": {},
   "outputs": [
    {
     "name": "stdout",
     "output_type": "stream",
     "text": [
      "0 H\n",
      "1 e\n",
      "2 l\n",
      "3 l\n",
      "4 o\n"
     ]
    }
   ],
   "source": [
    "for i in range(0, len(a)):\n",
    "    print(i, a[i])"
   ]
  },
  {
   "cell_type": "code",
   "execution_count": 13,
   "metadata": {},
   "outputs": [
    {
     "name": "stdout",
     "output_type": "stream",
     "text": [
      "H\n",
      "e\n",
      "l\n",
      "l\n",
      "o\n"
     ]
    }
   ],
   "source": [
    "for l in a:\n",
    "    print(l)"
   ]
  },
  {
   "cell_type": "code",
   "execution_count": 16,
   "metadata": {},
   "outputs": [
    {
     "name": "stdout",
     "output_type": "stream",
     "text": [
      "0 H\n",
      "1 e\n",
      "2 l\n",
      "3 l\n",
      "4 o\n"
     ]
    }
   ],
   "source": [
    "c = 0\n",
    "for l in a:\n",
    "    print(c, l)\n",
    "    c += 1"
   ]
  },
  {
   "cell_type": "code",
   "execution_count": 20,
   "metadata": {},
   "outputs": [
    {
     "name": "stdout",
     "output_type": "stream",
     "text": [
      "There are 2 ls in the string.\n"
     ]
    }
   ],
   "source": [
    "c = 0\n",
    "for l in a:\n",
    "    if l == 'l':\n",
    "        c += 1\n",
    "print('There are ' + str(c) + ' ls in the string.')"
   ]
  },
  {
   "cell_type": "code",
   "execution_count": 32,
   "metadata": {},
   "outputs": [
    {
     "name": "stdout",
     "output_type": "stream",
     "text": [
      "Hello\n",
      "Hel\n",
      "lo\n",
      "o\n",
      "ll\n"
     ]
    }
   ],
   "source": [
    "print (a[:])\n",
    "print (a[:3])\n",
    "print (a[3:])\n",
    "print (a[-1])\n",
    "print (a[-3:-1])"
   ]
  },
  {
   "cell_type": "code",
   "execution_count": 34,
   "metadata": {},
   "outputs": [
    {
     "name": "stdout",
     "output_type": "stream",
     "text": [
      "HEllo\n"
     ]
    }
   ],
   "source": [
    "a = 'HE' + a[2:]\n",
    "print(a)"
   ]
  },
  {
   "cell_type": "code",
   "execution_count": 43,
   "metadata": {},
   "outputs": [
    {
     "data": {
      "text/plain": [
       "True"
      ]
     },
     "execution_count": 43,
     "metadata": {},
     "output_type": "execute_result"
    }
   ],
   "source": [
    "'ll' in a\n",
    "'e' in a\n",
    "'E' in a\n",
    "'HEllo' == a\n",
    "'Hello' == a\n",
    "'a' < 'b'\n",
    "'A' < 'a'"
   ]
  },
  {
   "cell_type": "code",
   "execution_count": 49,
   "metadata": {},
   "outputs": [
    {
     "name": "stdout",
     "output_type": "stream",
     "text": [
      "Help on method_descriptor:\n",
      "\n",
      "count(...)\n",
      "    S.count(sub[, start[, end]]) -> int\n",
      "    \n",
      "    Return the number of non-overlapping occurrences of substring sub in\n",
      "    string S[start:end].  Optional arguments start and end are\n",
      "    interpreted as in slice notation.\n",
      "\n"
     ]
    }
   ],
   "source": [
    "a.upper()\n",
    "'Mostafa'.upper()\n",
    "dir(a)\n",
    "help(str.count)"
   ]
  },
  {
   "cell_type": "code",
   "execution_count": 55,
   "metadata": {},
   "outputs": [
    {
     "name": "stdout",
     "output_type": "stream",
     "text": [
      "HEllo\n",
      "2\n",
      "1\n"
     ]
    }
   ],
   "source": [
    "print(a)\n",
    "print(a.count('l'))\n",
    "print(a.count('l', 0, 3))"
   ]
  },
  {
   "cell_type": "code",
   "execution_count": 61,
   "metadata": {},
   "outputs": [
    {
     "name": "stdout",
     "output_type": "stream",
     "text": [
      "2\n",
      "3\n",
      "sdfdf\n",
      "True\n"
     ]
    }
   ],
   "source": [
    "print(a.find('l'))\n",
    "print(a.find('l', 3))\n",
    "print('  sdfdf  '.strip())\n",
    "print(a.lower().startswith('h'))\n"
   ]
  },
  {
   "cell_type": "code",
   "execution_count": 68,
   "metadata": {},
   "outputs": [
    {
     "name": "stdout",
     "output_type": "stream",
     "text": [
      "HEllo, Mostafa\n"
     ]
    }
   ],
   "source": [
    "name = 'Mostafa'\n",
    "print('%s, %s' % (a, name) )"
   ]
  },
  {
   "cell_type": "code",
   "execution_count": 72,
   "metadata": {},
   "outputs": [
    {
     "name": "stdout",
     "output_type": "stream",
     "text": [
      "4\n",
      "['Mostafa']\n",
      "-1\n"
     ]
    }
   ],
   "source": [
    "l = [5, 4, -1, 'Mostafa']\n",
    "print(l[1])\n",
    "print(l[3:])\n",
    "print(l[-2])"
   ]
  },
  {
   "cell_type": "code",
   "execution_count": 85,
   "metadata": {},
   "outputs": [
    {
     "name": "stdout",
     "output_type": "stream",
     "text": [
      "Ali\n",
      "[5, 4, -1, 'Mostafa']\n",
      "4\n",
      "[5, 4, -1, 'Mostafa']\n",
      "4.5\n",
      "Ali\n",
      "3\n",
      "0 [5, 4, -1, 'Mostafa']\n",
      "1 5\n",
      "2 Ali\n",
      "3 ['Hosein', 'Mahdi']\n",
      "[[5, 4, -1, 'Mostafa'], 4.6, 'Ali']\n"
     ]
    }
   ],
   "source": [
    "l2 = [l, 4.5, 'Ali']\n",
    "print(l2[-1])\n",
    "print(l2[0])\n",
    "print(l2[0][1])\n",
    "for i in l2:\n",
    "    print(i)\n",
    "print(len(l2))\n",
    "l3 = [l, 5, 'Ali', ['Hosein', 'Mahdi']]\n",
    "for i in range(0, len(l3)):\n",
    "    print(i, l3[i])\n",
    "l2[1] = 4.6\n",
    "print(l2)"
   ]
  },
  {
   "cell_type": "code",
   "execution_count": 133,
   "metadata": {},
   "outputs": [
    {
     "name": "stdout",
     "output_type": "stream",
     "text": [
      "[[-1, 4, 5], 'Ali', [-1, 4, 5], 5, 'Ali', ['Hosein', 'Mahdi', 'Ali', 'Ali', 'Ali', 'Ali', 'Ali']]\n",
      "[[-1, 4, 5], 'Ali', [-1, 4, 5], 'Ali']\n",
      "<class 'list'>\n",
      "Help on built-in function append:\n",
      "\n",
      "append(...) method of builtins.list instance\n",
      "    L.append(object) -> None -- append object to end\n",
      "\n",
      "[[-1, 4, 5], 'Ali', [-1, 4, 5], 5, 'Ali', ['Hosein', 'Mahdi', 'Ali', 'Ali', 'Ali', 'Ali', 'Ali'], 'Rahmani']\n",
      "[[-1, 4, 5], 'Ali', [-1, 4, 5], 5, 'Ali', ['Hosein', 'Mahdi', 'Ali', 'Ali', 'Ali', 'Ali', 'Ali', 'Ali'], 'Rahmani']\n",
      "Help on method_descriptor:\n",
      "\n",
      "extend(...)\n",
      "    L.extend(iterable) -> None -- extend list by appending elements from the iterable\n",
      "\n",
      "Help on method_descriptor:\n",
      "\n",
      "remove(...)\n",
      "    L.remove(value) -> None -- remove first occurrence of value.\n",
      "    Raises ValueError if the value is not present.\n",
      "\n",
      "[-1, 4, 5]\n",
      "[-1, 4, 5]\n",
      "[[-1, 4, 5], 'Ali']\n",
      "[[-1, 4, 5], 'Ali', [-1, 4, 5], 5, 'Ali', ['Hosein', 'Mahdi', 'Ali', 'Ali', 'Ali', 'Ali', 'Ali', 'Ali'], 'Rahmani']\n",
      "[[-1, 4, 5], 'Ali']\n",
      "[[-1, 4, 5], 5, 'Ali', ['Hosein', 'Mahdi', 'Ali', 'Ali', 'Ali', 'Ali', 'Ali', 'Ali']]\n",
      "[[-1, 4, 5], 'Ali', [-1, 4, 5], 5, 'Ali', ['Hosein', 'Mahdi', 'Ali', 'Ali', 'Ali', 'Ali', 'Ali', 'Ali'], 'Rahmani']\n"
     ]
    }
   ],
   "source": [
    "l4 = l2 + l3\n",
    "print(l4)\n",
    "print(l2 * 2)\n",
    "\n",
    "print(type(l4))\n",
    "dir(l4)\n",
    "help(l4.append)\n",
    "\n",
    "l4.append('Rahmani')\n",
    "print(l4)\n",
    "\n",
    "l4[-2].append('Ali')\n",
    "print(l4)\n",
    "\n",
    "help(list.extend)\n",
    "help(list.remove)\n",
    "# l.remove('Mostafa')\n",
    "print(l)\n",
    "l.sort()\n",
    "print(l)\n",
    "print(l2)\n",
    "print(l4)\n",
    "# del l2[1]\n",
    "print(l2)\n",
    "# print(l3)\n",
    "# l3[-1].pop()\n",
    "# l3[-1].pop()\n",
    "print(l3)\n",
    "print(l4)"
   ]
  },
  {
   "cell_type": "code",
   "execution_count": 136,
   "metadata": {},
   "outputs": [
    {
     "name": "stdout",
     "output_type": "stream",
     "text": [
      "8\n",
      "-1\n",
      "18\n",
      "3.6\n"
     ]
    }
   ],
   "source": [
    "n = [4, 8, 2, -1, 5]\n",
    "print(max(n))\n",
    "print(min(n))\n",
    "print(sum(n))\n",
    "print(sum(n) / len(n))"
   ]
  },
  {
   "cell_type": "code",
   "execution_count": 140,
   "metadata": {},
   "outputs": [
    {
     "name": "stdout",
     "output_type": "stream",
     "text": [
      "['this', 'is', 'a', 'phrase']\n",
      "this_is_a_phrase\n"
     ]
    }
   ],
   "source": [
    "phrase = 'this is a phrase'\n",
    "phrase_words = phrase.split()\n",
    "print(phrase_words)\n",
    "phrase_words_joined = '_'.join(phrase_words)\n",
    "print(phrase_words_joined)"
   ]
  },
  {
   "cell_type": "code",
   "execution_count": 145,
   "metadata": {},
   "outputs": [
    {
     "name": "stdout",
     "output_type": "stream",
     "text": [
      "True\n",
      "True\n",
      "True\n",
      "False\n",
      "True\n"
     ]
    }
   ],
   "source": [
    "a = 'test'\n",
    "b = 'test'\n",
    "print(a == b)\n",
    "print(a is b)\n",
    "\n",
    "list1 = [1, 2, 3]\n",
    "list2 = [1, 2, 3]\n",
    "print(list1 == list2)\n",
    "print(list1 is list2)\n",
    "\n",
    "list3 = list1\n",
    "print(list1 is list3)"
   ]
  },
  {
   "cell_type": "code",
   "execution_count": 158,
   "metadata": {},
   "outputs": [
    {
     "name": "stdout",
     "output_type": "stream",
     "text": [
      "{}\n",
      "{'hi': 'سلام', 'me': 'من', 'you': 'تو'}\n",
      "من\n",
      "۲\n",
      "{'hi': 'سلام', 'me': 'من', 'you': 'تو', 2: '۲'}\n",
      "{1: 'One', 2: 'Two', 3: 'Three'}\n",
      "Two\n",
      "dict_keys([1, 2, 3])\n",
      "['One', 'Two', 'Three']\n",
      "True\n",
      "True\n"
     ]
    }
   ],
   "source": [
    "d1 = dict()\n",
    "print(d1)\n",
    "d1['hi'] = 'سلام'\n",
    "d1['me'] = 'من'\n",
    "d1['you'] = 'تو'\n",
    "print(d1)\n",
    "print(d1['me'])\n",
    "d1[2] = '۲'\n",
    "print(d1[2])\n",
    "print(d1)\n",
    "d2 = { 1 : 'One', 2 : 'Two', 3 : 'Three' }\n",
    "print(d2)\n",
    "print(d2[2])\n",
    "print(d2.keys())\n",
    "print(list(d2.values()))\n",
    "print(1 in d2)\n",
    "print('me' in d1)"
   ]
  },
  {
   "cell_type": "code",
   "execution_count": 161,
   "metadata": {},
   "outputs": [
    {
     "name": "stdout",
     "output_type": "stream",
     "text": [
      "t appeared 7 times\n",
      "h appeared 2 times\n",
      "i appeared 6 times\n",
      "s appeared 4 times\n",
      "  appeared 9 times\n",
      "r appeared 3 times\n",
      "n appeared 5 times\n",
      "g appeared 1 times\n",
      "j appeared 1 times\n",
      "u appeared 2 times\n",
      "o appeared 4 times\n",
      "l appeared 1 times\n",
      "e appeared 1 times\n",
      "a appeared 3 times\n",
      "b appeared 1 times\n",
      "d appeared 1 times\n",
      "c appeared 1 times\n",
      "y appeared 2 times\n",
      "p appeared 1 times\n"
     ]
    }
   ],
   "source": [
    "some_string = 'this string is just to learn about dictionary in python'\n",
    "\n",
    "counter = dict()\n",
    "\n",
    "for letter in some_string:\n",
    "    if letter in counter:\n",
    "        counter[letter] += 1\n",
    "    else:\n",
    "        counter[letter] = 1\n",
    "        \n",
    "for item in counter:\n",
    "    print('%s appeared %s times' % (item, counter[item]))"
   ]
  },
  {
   "cell_type": "code",
   "execution_count": 166,
   "metadata": {},
   "outputs": [
    {
     "name": "stdout",
     "output_type": "stream",
     "text": [
      "3\n",
      "None\n",
      "0\n"
     ]
    }
   ],
   "source": [
    "print(counter['a'])\n",
    "print(counter.get('z'))\n",
    "print(counter.get('z', 0))"
   ]
  },
  {
   "cell_type": "code",
   "execution_count": 168,
   "metadata": {},
   "outputs": [
    {
     "name": "stdout",
     "output_type": "stream",
     "text": [
      "t appeared 7 times\n",
      "h appeared 2 times\n",
      "i appeared 6 times\n",
      "s appeared 4 times\n",
      "  appeared 9 times\n",
      "r appeared 3 times\n",
      "n appeared 5 times\n",
      "g appeared 1 times\n",
      "j appeared 1 times\n",
      "u appeared 2 times\n",
      "o appeared 4 times\n",
      "l appeared 1 times\n",
      "e appeared 1 times\n",
      "a appeared 3 times\n",
      "b appeared 1 times\n",
      "d appeared 1 times\n",
      "c appeared 1 times\n",
      "y appeared 2 times\n",
      "p appeared 1 times\n"
     ]
    }
   ],
   "source": [
    "some_string = 'this string is just to learn about dictionary in python'\n",
    "\n",
    "counter = dict()\n",
    "\n",
    "for letter in some_string:\n",
    "    counter[letter] += counter.get(letter, 0) +1\n",
    "        \n",
    "for item in counter:\n",
    "    print('%s appeared %s times' % (item, counter[item]))"
   ]
  }
 ],
 "metadata": {
  "kernelspec": {
   "display_name": "Python 3",
   "language": "python",
   "name": "python3"
  },
  "language_info": {
   "codemirror_mode": {
    "name": "ipython",
    "version": 3
   },
   "file_extension": ".py",
   "mimetype": "text/x-python",
   "name": "python",
   "nbconvert_exporter": "python",
   "pygments_lexer": "ipython3",
   "version": "3.6.3"
  }
 },
 "nbformat": 4,
 "nbformat_minor": 2
}
