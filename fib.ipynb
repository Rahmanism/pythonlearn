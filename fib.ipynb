{
 "cells": [
  {
   "cell_type": "code",
   "execution_count": 7,
   "metadata": {},
   "outputs": [],
   "source": [
    "# non-recursive fibonacci function\n",
    "def fib(n):\n",
    "    # 1 1 2 3 5 8\n",
    "    if n == 1 or n == 2:\n",
    "        return 1\n",
    "    b = [0, 1, 1]\n",
    "    for i in range(3, n + 1):\n",
    "        b.append(b[i - 1] + b[i - 2])\n",
    "    return b[n]\n",
    "\n",
    "# recursive fibonacci function\n",
    "def fib_rec(n):\n",
    "    if n < 3:\n",
    "        return 1\n",
    "    return fib_rec(n - 1) + fib_rec(n - 2)\n"
   ]
  },
  {
   "cell_type": "code",
   "execution_count": 11,
   "metadata": {},
   "outputs": [
    {
     "name": "stdout",
     "output_type": "stream",
     "text": [
      "non-recursive: 24157817\n",
      "recursive: 24157817\n"
     ]
    }
   ],
   "source": [
    "x = 37\n",
    "print('non-recursive:', fib(x))\n",
    "print('recursive:', fib_rec(x))\n"
   ]
  }
 ],
 "metadata": {
  "kernelspec": {
   "display_name": "Python 3",
   "language": "python",
   "name": "python3"
  },
  "language_info": {
   "codemirror_mode": {
    "name": "ipython",
    "version": 3
   },
   "file_extension": ".py",
   "mimetype": "text/x-python",
   "name": "python",
   "nbconvert_exporter": "python",
   "pygments_lexer": "ipython3",
   "version": "3.6.5"
  }
 },
 "nbformat": 4,
 "nbformat_minor": 2
}
