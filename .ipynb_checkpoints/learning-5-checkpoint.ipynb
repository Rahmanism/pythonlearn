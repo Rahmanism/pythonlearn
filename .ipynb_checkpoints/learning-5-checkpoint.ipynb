{
 "cells": [
  {
   "cell_type": "code",
   "execution_count": 4,
   "metadata": {},
   "outputs": [
    {
     "name": "stdout",
     "output_type": "stream",
     "text": [
      "1> 20\n",
      "2> 19\n",
      "3> 3\n",
      "4> 12.5\n",
      "5> 8\n",
      "6> 16\n",
      "7> 8\n",
      "8> 17\n",
      "9> 11\n"
     ]
    }
   ],
   "source": [
    "f = open('scores.txt')\n",
    "counter = 0\n",
    "for line in f:\n",
    "    counter += 1\n",
    "    print('%i> %s' % (counter, line.strip()))"
   ]
  },
  {
   "cell_type": "code",
   "execution_count": 14,
   "metadata": {},
   "outputs": [
    {
     "name": "stdout",
     "output_type": "stream",
     "text": [
      "Average: 12.72\n"
     ]
    }
   ],
   "source": [
    "f = open('scores.txt')\n",
    "counter = 0\n",
    "sum = 0\n",
    "for line in f:\n",
    "    counter += 1\n",
    "    this_number = line.strip()\n",
    "    sum += float(this_number)\n",
    "average = float(sum / counter)\n",
    "print('Average: %.2f' % average)\n",
    "f_out = open('average.txt', 'w')\n",
    "f_out.write(str(average))\n",
    "f_out.close()"
   ]
  }
 ],
 "metadata": {
  "kernelspec": {
   "display_name": "Python 3",
   "language": "python",
   "name": "python3"
  },
  "language_info": {
   "codemirror_mode": {
    "name": "ipython",
    "version": 3
   },
   "file_extension": ".py",
   "mimetype": "text/x-python",
   "name": "python",
   "nbconvert_exporter": "python",
   "pygments_lexer": "ipython3",
   "version": "3.6.3"
  }
 },
 "nbformat": 4,
 "nbformat_minor": 2
}
