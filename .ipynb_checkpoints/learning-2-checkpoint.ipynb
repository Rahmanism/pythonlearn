{
 "cells": [
  {
   "cell_type": "code",
   "execution_count": 151,
   "metadata": {},
   "outputs": [
    {
     "name": "stdout",
     "output_type": "stream",
     "text": [
      "0.8757788401020606\n",
      "42\n"
     ]
    }
   ],
   "source": [
    "import random\n",
    "r1 = random.random()\n",
    "r2 = random.randint(1, 100)\n",
    "print(r1)\n",
    "print(r2)"
   ]
  },
  {
   "cell_type": "code",
   "execution_count": 155,
   "metadata": {},
   "outputs": [
    {
     "name": "stdout",
     "output_type": "stream",
     "text": [
      "Give me the first one: 33\n",
      "Now enter the second one: 2\n",
      "Error! \"a\" is too much big.\n"
     ]
    }
   ],
   "source": [
    "def calc(a, b):\n",
    "    if (a > 10):\n",
    "        return 'Error! \"a\" is too much big.'\n",
    "    else:\n",
    "        s = a + b\n",
    "        return s\n",
    "    \n",
    "n1 = int(input(\"Give me the first one: \"))\n",
    "n2 = int(input(\"Now enter the second one: \"))\n",
    "print(calc(n1, n2))\n"
   ]
  },
  {
   "cell_type": "code",
   "execution_count": 5,
   "metadata": {},
   "outputs": [
    {
     "name": "stdout",
     "output_type": "stream",
     "text": [
      "Give me a name (end to end): Mostafa\n",
      "Hello Mostafa\n",
      "Give me another name (end to end): Ali\n",
      "Hello Ali\n",
      "Give me another name (end to end): end\n"
     ]
    }
   ],
   "source": [
    "name = input('Give me a name (end to end): ')\n",
    "while name != 'end':\n",
    "    print('Hello', name)\n",
    "    name = input('Give me another name (end to end): ')\n"
   ]
  },
  {
   "cell_type": "code",
   "execution_count": 8,
   "metadata": {},
   "outputs": [
    {
     "name": "stdout",
     "output_type": "stream",
     "text": [
      "1\n",
      "2\n",
      "3\n",
      "4\n",
      "5\n",
      "6\n",
      "7\n",
      "8\n",
      "9\n"
     ]
    }
   ],
   "source": [
    "for i in range(1, 10):\n",
    "    print(i)"
   ]
  },
  {
   "cell_type": "code",
   "execution_count": 10,
   "metadata": {},
   "outputs": [
    {
     "name": "stdout",
     "output_type": "stream",
     "text": [
      "1\n",
      "new i:  4\n",
      "2\n",
      "new i:  5\n",
      "3\n",
      "new i:  6\n",
      "4\n",
      "new i:  7\n",
      "5\n",
      "new i:  8\n",
      "6\n",
      "new i:  9\n",
      "7\n",
      "new i:  10\n",
      "8\n",
      "new i:  11\n",
      "9\n",
      "new i:  12\n"
     ]
    }
   ],
   "source": [
    "for i in range(1, 10):\n",
    "    print(i)\n",
    "    i = i + 3\n",
    "    print ('new i: ', i)"
   ]
  },
  {
   "cell_type": "code",
   "execution_count": 11,
   "metadata": {},
   "outputs": [
    {
     "name": "stdout",
     "output_type": "stream",
     "text": [
      "Hello Mostafa\n",
      "Hello Toktam\n",
      "Hello Ali\n",
      "Hello Hosein\n",
      "Hello Mahdi\n"
     ]
    }
   ],
   "source": [
    "myFamily = ['Mostafa', 'Toktam', 'Ali', 'Hosein', 'Mahdi']\n",
    "for one in myFamily:\n",
    "    print('Hello', one)"
   ]
  },
  {
   "cell_type": "code",
   "execution_count": 9,
   "metadata": {},
   "outputs": [
    {
     "name": "stdout",
     "output_type": "stream",
     "text": [
      "Guess No. 1 - What's your guess? 50\n",
      "Answer's bigger.\n",
      "Guess No. 2 - What's your next guess? 75\n",
      "Answer's bigger.\n",
      "Guess No. 3 - What's your next guess? 87\n",
      "Answer's bigger.\n",
      "Guess No. 4 - What's your next guess? 93\n",
      "Wow! You did it. :)\n"
     ]
    }
   ],
   "source": [
    "import random\n",
    "\n",
    "answer = random.randint(1, 99)\n",
    "correct = False\n",
    "\n",
    "c = 1\n",
    "guess = int(input('Guess No. ' + str(c) + ' - What\\'s your guess? '))\n",
    "\n",
    "while guess != answer and c < 10:\n",
    "    if guess > answer:\n",
    "        print('Answer\\'s smaller.')\n",
    "    else:\n",
    "        print('Answer\\'s bigger.')\n",
    "    c += 1\n",
    "    guess = int(input('Guess No. ' + str(c) + ' - What\\'s your next guess? '))\n",
    "    \n",
    "\n",
    "if c < 10:\n",
    "    print(\"Wow! You did it. :)\")\n",
    "else:\n",
    "    print(\"You're out of guesses. :(\")\n"
   ]
  },
  {
   "cell_type": "code",
   "execution_count": 15,
   "metadata": {},
   "outputs": [
    {
     "name": "stdout",
     "output_type": "stream",
     "text": [
      "My guess is 50. Is your number (b)igger or (s)maller? Or my guess is (c)orrect? s\n",
      "My guess is 25. Is your number (b)igger or (s)maller? Or my guess is (c)orrect? b\n",
      "My guess is 37. Is your number (b)igger or (s)maller? Or my guess is (c)orrect? b\n",
      "My guess is 43. Is your number (b)igger or (s)maller? Or my guess is (c)orrect? b\n",
      "My guess is 46. Is your number (b)igger or (s)maller? Or my guess is (c)orrect? b\n",
      "My guess is 48. Is your number (b)igger or (s)maller? Or my guess is (c)orrect? c\n",
      "Yay! I did it :)\n"
     ]
    }
   ],
   "source": [
    "import random\n",
    "\n",
    "bigger = 'b'\n",
    "smaller = 's'\n",
    "correct = 'c'\n",
    "\n",
    "c = 1\n",
    "minimum = 1\n",
    "maximum = 100\n",
    "guess = int(maximum / 2)\n",
    "result = input('My guess is ' + str(guess) + '. Is your number (b)igger or (s)maller? Or my guess is (c)orrect? ')\n",
    "while result != 'c' and c < 10:\n",
    "    if result == 'b':\n",
    "        minimum = guess\n",
    "    elif result == 's':\n",
    "        maximum = guess\n",
    "    guess = minimum + int((maximum - minimum) / 2)\n",
    "    c += 1\n",
    "    result = input('My guess is ' + str(guess) + '. Is your number (b)igger or (s)maller? Or my guess is (c)orrect? ')\n",
    "\n",
    "if c < 10:\n",
    "    print(\"Yay! I did it :)\")\n",
    "else:\n",
    "    print(\"I'll try better next time...\")\n"
   ]
  }
 ],
 "metadata": {
  "kernelspec": {
   "display_name": "Python 3",
   "language": "python",
   "name": "python3"
  },
  "language_info": {
   "codemirror_mode": {
    "name": "ipython",
    "version": 3
   },
   "file_extension": ".py",
   "mimetype": "text/x-python",
   "name": "python",
   "nbconvert_exporter": "python",
   "pygments_lexer": "ipython3",
   "version": "3.6.5"
  }
 },
 "nbformat": 4,
 "nbformat_minor": 2
}
