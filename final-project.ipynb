{
 "cells": [
  {
   "cell_type": "code",
   "execution_count": 12,
   "metadata": {},
   "outputs": [
    {
     "name": "stdout",
     "output_type": "stream",
     "text": [
      "password of jadi is 1015\n",
      "password of jafar is 2218\n",
      "password of jobra is 4215\n",
      "password of peter is 5104\n",
      "password of noroozi is 5916\n",
      "password of sam is 6149\n",
      "password of mahdimRa is 8223\n",
      "password of saghi is 8894\n",
      "password of navid is 9770\n"
     ]
    }
   ],
   "source": [
    "import csv\n",
    "import hashlib\n",
    "\n",
    "f = open('2.csv')\n",
    "reader = csv.reader(f)\n",
    "hashes = dict()\n",
    "for i in range(0, 9999):\n",
    "    hash_of_i = hashlib.sha256(str(i).encode('utf-8')).hexdigest()\n",
    "    hashes[hash_of_i] = i\n",
    "\n",
    "passwords = dict()\n",
    "for row in reader:\n",
    "    passwords[row[0]] = hashes[row[1]]\n",
    "    \n",
    "for i in passwords:\n",
    "    print('password of %s is %s' %(i, passwords[i]))"
   ]
  }
 ],
 "metadata": {
  "kernelspec": {
   "display_name": "Python 3",
   "language": "python",
   "name": "python3"
  },
  "language_info": {
   "codemirror_mode": {
    "name": "ipython",
    "version": 3
   },
   "file_extension": ".py",
   "mimetype": "text/x-python",
   "name": "python",
   "nbconvert_exporter": "python",
   "pygments_lexer": "ipython3",
   "version": "3.6.3"
  }
 },
 "nbformat": 4,
 "nbformat_minor": 2
}
