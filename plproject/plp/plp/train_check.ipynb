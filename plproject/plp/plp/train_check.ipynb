{
 "cells": [
  {
   "cell_type": "code",
   "execution_count": 12,
   "metadata": {},
   "outputs": [
    {
     "name": "stdout",
     "output_type": "stream",
     "text": [
      "Ok!\n"
     ]
    }
   ],
   "source": [
    "import sqlite3\n",
    "from sklearn import preprocessing\n",
    "from sklearn import tree\n",
    "\n",
    "dbFile = 'C:\\\\Users\\\\Mostafa\\\\tmp\\\\pythonlearn\\\\plproject\\\\plp\\\\plp\\\\db.sqlite3'\n",
    "conn = sqlite3.connect(dbFile)\n",
    "cur = conn.cursor()\n",
    "cur.execute('select name, year, km, price from plproject_car')\n",
    "cars = cur.fetchall()\n",
    "\n",
    "x, y = [[],[],[]], []\n",
    "leX = []\n",
    "for i in range(3):\n",
    "    leX.append(preprocessing.LabelEncoder())\n",
    "# leY = preprocessing.LabelEncoder()\n",
    "for car in cars:\n",
    "    x[0].append(car[0])\n",
    "    x[1].append(car[1])\n",
    "    x[2].append(car[2])\n",
    "    y.append(car[3])\n",
    "\n",
    "leXt = [[],[],[]]\n",
    "for i in range(3):\n",
    "    leXt[i] = leX[i].fit_transform(x[i])\n",
    "# leYt = leY.fit_transform(y)\n",
    "\n",
    "leXt_final = []\n",
    "for i in range(len(leXt[0])):\n",
    "    leXt_final.append([leXt[0][i], leXt[1][i], leXt[2][i]])\n",
    "\n",
    "    \n",
    "clf = tree.DecisionTreeClassifier()\n",
    "clf.fit(leXt_final, y)\n",
    "\n",
    "print('Ok!')"
   ]
  }
 ],
 "metadata": {
  "kernelspec": {
   "display_name": "Python 3",
   "language": "python",
   "name": "python3"
  },
  "language_info": {
   "codemirror_mode": {
    "name": "ipython",
    "version": 3
   },
   "file_extension": ".py",
   "mimetype": "text/x-python",
   "name": "python",
   "nbconvert_exporter": "python",
   "pygments_lexer": "ipython3",
   "version": "3.6.3"
  }
 },
 "nbformat": 4,
 "nbformat_minor": 2
}
