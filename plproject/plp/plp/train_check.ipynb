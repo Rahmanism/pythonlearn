{
 "cells": [
  {
   "cell_type": "code",
   "execution_count": 27,
   "metadata": {},
   "outputs": [
    {
     "name": "stdout",
     "output_type": "stream",
     "text": [
      "[[30, 5, 13, 18]]\n",
      "['86,000,000 تومان']\n",
      "Ok!\n"
     ]
    }
   ],
   "source": [
    "import sqlite3\n",
    "from sklearn import preprocessing\n",
    "from sklearn import tree\n",
    "import os\n",
    "\n",
    "lpFile = 'C:\\\\Users\\\\Mostafa\\\\tmp\\\\pythonlearn\\\\plproject\\\\plp\\\\plp\\\\db.sqlite3'\n",
    "pcFile = 'C:\\\\Users\\\\Rahmani\\\\tmp\\\\pythonlearn\\\\plproject\\\\plp\\\\plp\\\\db.sqlite3'\n",
    "dbFile = lpFile if os.path.isfile(lpFile) else pcFile \n",
    "conn = sqlite3.connect(dbFile)\n",
    "cur = conn.cursor()\n",
    "cur.execute('select name, meta, year, km, price from plproject_car')\n",
    "cars = cur.fetchall()\n",
    "\n",
    "x, y = [[],[],[],[]], []\n",
    "leX = []\n",
    "for i in range(4):\n",
    "    leX.append(preprocessing.LabelEncoder())\n",
    "# leY = preprocessing.LabelEncoder()\n",
    "for car in cars:\n",
    "    x[0].append(car[0])\n",
    "    x[1].append(car[1])\n",
    "    x[2].append(car[2])\n",
    "    x[3].append(car[3])\n",
    "    y.append(car[4])\n",
    "\n",
    "leXt = [[],[],[],[]]\n",
    "for i in range(4):\n",
    "    leXt[i] = leX[i].fit_transform(x[i])\n",
    "# leYt = leY.fit_transform(y)\n",
    "\n",
    "leXt_final = []\n",
    "for i in range(len(leXt[0])):\n",
    "    leXt_final.append([leXt[0][i], leXt[1][i], leXt[2][i], leXt[3][i]])\n",
    "\n",
    "clf = tree.DecisionTreeClassifier()\n",
    "clf.fit(leXt_final, y)\n",
    "\n",
    "newData = [' پژو', ' 206  تیپ 5', 1397, '20,000 کیلومتر', '86,000,000 تومان']\n",
    "\n",
    "# print(leXt[0][0])\n",
    "newDataTransformed = [[leX[0].transform([newData[0]])[0],leX[1].transform([newData[1]])[0],leX[2].transform([newData[2]])[0],leX[3].transform([newData[3]])[0]]]\n",
    "print(newDataTransformed)\n",
    "answer = clf.predict(newDataTransformed)\n",
    "# print (leX[0].inverse_transform(newData[0]))\n",
    "#newDataTransformed = [[leX[0].transform(newData[0]), leX[1].transform(newData[1]), leX[2].transform(newData[2])]]\n",
    "print(answer)\n",
    "print('Ok!')"
   ]
  }
 ],
 "metadata": {
  "kernelspec": {
   "display_name": "Python 3",
   "language": "python",
   "name": "python3"
  },
  "language_info": {
   "codemirror_mode": {
    "name": "ipython",
    "version": 3
   },
   "file_extension": ".py",
   "mimetype": "text/x-python",
   "name": "python",
   "nbconvert_exporter": "python",
   "pygments_lexer": "ipython3",
   "version": "3.7.2"
  }
 },
 "nbformat": 4,
 "nbformat_minor": 2
}
